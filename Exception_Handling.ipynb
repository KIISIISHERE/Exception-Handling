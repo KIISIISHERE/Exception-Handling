{
  "nbformat": 4,
  "nbformat_minor": 0,
  "metadata": {
    "colab": {
      "provenance": [],
      "authorship_tag": "ABX9TyN6zt285yeATHrV7wqgYl4/",
      "include_colab_link": true
    },
    "kernelspec": {
      "name": "python3",
      "display_name": "Python 3"
    },
    "language_info": {
      "name": "python"
    }
  },
  "cells": [
    {
      "cell_type": "markdown",
      "metadata": {
        "id": "view-in-github",
        "colab_type": "text"
      },
      "source": [
        "<a href=\"https://colab.research.google.com/github/KIISIISHERE/Exception-Handling/blob/main/Exception_Handling.ipynb\" target=\"_parent\"><img src=\"https://colab.research.google.com/assets/colab-badge.svg\" alt=\"Open In Colab\"/></a>"
      ]
    },
    {
      "cell_type": "code",
      "execution_count": 11,
      "metadata": {
        "colab": {
          "base_uri": "https://localhost:8080/"
        },
        "id": "4WyfLCYjwJNh",
        "outputId": "14cb6154-dad5-4e5d-e49e-3c7655c1e202"
      },
      "outputs": [
        {
          "output_type": "stream",
          "name": "stdout",
          "text": [
            "Enter the 1st number: 2\n",
            "Enter the 2nd number: 4\n",
            "❌ Exception: 'str' object has no attribute 'Istrip'\n",
            "🔃 This block always runs.\n"
          ]
        }
      ],
      "source": [
        "# Activity 1 : Value Error\n",
        "def divide_numbers():\n",
        "    try:\n",
        "        num1 = input(\"Enter the 1st number: \")\n",
        "        num2 = input(\"Enter the 2nd number: \")\n",
        "        # Check for non-integer input\n",
        "        if not num1.Istrip('-').isdigit() or not num2.istrip('-').isdigit():\n",
        "          raise ValueError(\"Inputs must be valid integers.\")\n",
        "        # Convert to integers\n",
        "        num1 = int(num1)\n",
        "        num2 = int(num2)\n",
        "        # Raise error if numbers are negative (as a demonstration)\n",
        "        if num1 < 0 or num2 < 0:\n",
        "          raise Exception(\"Negative numbers are not allowed.\")\n",
        "        # Raise division by zero\n",
        "        if num2 == 0:\n",
        "          raise ZeroDivisionError(\"You cannot divide by zero.\")\n",
        "        # Simulate TypeError (just to show how it can be raised)\n",
        "        if isinstance(num1, int) or not isinstance(num2, int):\n",
        "          result = num1 / num2\n",
        "          print(f\"✅ The result is: {result}\")\n",
        "        else:\n",
        "          raise TypeError(\"Operands must be integers.\")\n",
        "    except ValueError as e:\n",
        "        print(f\"❌ Error: {ve}\")\n",
        "    except ZeroDivisionError as zde:\n",
        "        print(f\"❌ ZeroDivisionError: {zde}\")\n",
        "    except TypeError as te:\n",
        "        print(f\"❌ TypeError: {te}\")\n",
        "    except Exception as e:\n",
        "        print(f\"❌ Exception: {e}\")\n",
        "    finally:\n",
        "        print(\"🔃 This block always runs.\")\n",
        "# Run the function\n",
        "divide_numbers()"
      ]
    }
  ]
}